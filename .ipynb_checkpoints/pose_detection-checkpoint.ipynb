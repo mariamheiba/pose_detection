{
 "cells": [
  {
   "cell_type": "code",
   "execution_count": 1,
   "metadata": {},
   "outputs": [],
   "source": [
    "import cv2 as cv\n",
    "import numpy as np\n",
    "import skimage.io as io\n",
    "from skimage.morphology import binary_erosion, binary_dilation, binary_closing,skeletonize, thin\n",
    "import matplotlib.pyplot as plt\n",
    "import numpy as np\n",
    "import scipy.ndimage\n",
    "import math\n",
    "from skimage.color import rgb2gray,rgb2hsv,gray2rgb\n",
    "from skimage.feature import canny\n",
    "import glob\n",
    "from sklearn.cluster import KMeans"
   ]
  },
  {
   "cell_type": "code",
   "execution_count": 2,
   "metadata": {},
   "outputs": [],
   "source": [
    "#input : frame ,initial background with no human in it\n",
    "#output: binary image \n",
    "def segmentation (frame,background):\n",
    "    diff = cv.absdiff(frame, background)\n",
    "    gray = cv.cvtColor(diff, cv.COLOR_BGR2GRAY)\n",
    "    x,y = gray.shape\n",
    "    gray[gray > 35] = 255\n",
    "    gray[gray <= 35] = 0\n",
    "    return gray"
   ]
  },
  {
   "cell_type": "code",
   "execution_count": 3,
   "metadata": {},
   "outputs": [],
   "source": [
    "#input binary image\n",
    "#output array with border points\n",
    "def border_extraction(img):\n",
    "    #erosion = cv.erode(img, None, iterations=2)\n",
    "    Human = cv.dilate(img, None, iterations=5)\n",
    "    HumanEroded = cv.erode(Human, None, iterations=2)\n",
    "    #io.imshow(HumanEroded,cmap=\"gray\")\n",
    "    #io.show()\n",
    "    #border = cv.absdiff(Human, HumanEroded) \n",
    "    #return np.where(border==[255])\n",
    "    #border = canny(HumanEroded,low_threshold=50,high_threshold=200,sigma=0)\n",
    "\n",
    "\n",
    "    #return np.where(border== True)\n",
    "    #borders with find contours\n",
    "    pic_bin = img.astype('uint8')\n",
    "    i,contours, hierarchy = cv.findContours(pic_bin,mode=cv.RETR_EXTERNAL,method=cv.CHAIN_APPROX_SIMPLE)\n",
    "    \n",
    "    pts = np.vstack((x.reshape(-1,2) for x in contours))\n",
    "    length = pts.shape[0]\n",
    "    xSorted = pts[np.argsort(pts[:, 0]), :]\n",
    "    leftMost = xSorted[:int(length/2), :] \n",
    "    rightMost = xSorted[int(length/2):, :]\n",
    "    \n",
    "    leftMost = leftMost[np.argsort(leftMost[:, 1]), :]\n",
    "    rightMost = rightMost[np.argsort(rightMost[:, 1]), :]\n",
    "    return rightMost,leftMost"
   ]
  },
  {
   "cell_type": "code",
   "execution_count": 4,
   "metadata": {},
   "outputs": [],
   "source": [
    "#input border points\n",
    "#output centroid, star points, distances from centroid to star points\n",
    "\n",
    "def star(rightMost,leftMost,img):\n",
    "    \n",
    "    size = rightMost.shape[0] + leftMost.shape[0]\n",
    "    \n",
    "    xc = (np.sum(rightMost[:,0]) + np.sum(leftMost[:,0]))/size\n",
    "    yc = (np.sum(rightMost[:,1]) + np.sum(leftMost[:,1]))/size\n",
    "    \n",
    "    xright = np.array(rightMost[:,0])\n",
    "    yright = np.array(rightMost[:,1])\n",
    "    rightSignal = np.sqrt(pow((xright-xc),2)+pow((yright-yc),2))\n",
    "    rightSignal = np.insert(rightSignal, 0, -100, axis=0)\n",
    "    rightSignal = np.insert(rightSignal,rightMost.shape[0] , -100, axis=0)\n",
    "    \n",
    "    xleft = np.array(leftMost[:,0])\n",
    "    yleft = np.array(leftMost[:,1])\n",
    "    leftSignal = np.sqrt(pow((xleft-xc),2)+pow((yleft-yc),2))\n",
    "    leftSignal = np.insert(leftSignal, 0, -100, axis=0)\n",
    "    lefttSignal = np.insert(leftSignal,rightMost.shape[0] , -100, axis=0)\n",
    "    \n",
    "    \n",
    "    \n",
    "    rightFiltered= scipy.ndimage.gaussian_filter1d(rightSignal, 3)\n",
    "    leftFiltered= scipy.ndimage.gaussian_filter1d(leftSignal, 3)\n",
    "    '''\n",
    "    plt.plot(rightSignal, label='unfiltered signal')\n",
    "    plt.legend()\n",
    "    plt.grid()\n",
    "    plt.show()\n",
    "    plt.plot(rightFiltered, label='unfiltered signal')\n",
    "    plt.legend()\n",
    "    plt.grid()\n",
    "    plt.show()\n",
    "    \n",
    "    plt.plot(leftSignal, label='filtered signal')\n",
    "    plt.legend()\n",
    "    plt.grid()\n",
    "    plt.show()\n",
    "    \n",
    "    plt.plot(rightFiltered, label='filtered signal')\n",
    "    plt.legend()\n",
    "    plt.grid()\n",
    "    plt.show()\n",
    "    '''\n",
    "    rightPeaks= scipy.signal.find_peaks(rightFiltered)\n",
    "    #print(\"righppeaks\",rightPeaks)\n",
    "    leftPeaks = scipy.signal.find_peaks(leftFiltered)\n",
    "    #print(\"righppeaks\",leftPeaks)\n",
    "    \n",
    "    star_out = np.array([])\n",
    "    for i in range(len(rightPeaks[0])):\n",
    "        star_out = np.concatenate((star_out,np.array([xright[rightPeaks[0][i]],yright[rightPeaks[0][i]]])))\n",
    "        cv.circle(img,(xright[rightPeaks[0][i]],yright[rightPeaks[0][i]]),7,(255,0,0),2)\n",
    "        \n",
    "    for i in range(len(leftPeaks[0])):\n",
    "        cv.circle(img,(xleft[leftPeaks[0][i]],yleft[leftPeaks[0][i]]),7,(255,0,0),2)\n",
    "        star_out = np.concatenate((star_out,np.array([xleft[leftPeaks[0][i]],yleft[leftPeaks[0][i]]])))\n",
    "        \n",
    "    cv.circle(img,(int(xc),int(yc)),10,(0,0,255),2)\n",
    "    cv.circle(img,(xleft[len(xleft)-1],yleft[len(yleft)-1]),10,(0,255,0),2)\n",
    "    #io.imshow(img)\n",
    "    #io.show()\n",
    "\n",
    "    \n",
    "    return np.array([xc,yc]),star_out.reshape(-1,2)\n"
   ]
  },
  {
   "cell_type": "code",
   "execution_count": 5,
   "metadata": {},
   "outputs": [],
   "source": [
    "def getAngles(stars,xc,yc):\n",
    "    angle=np.zeros(2)\n",
    "    angle[0]=math.degrees( math.atan2(stars[2][1]-yc, stars[2][0] -xc) - math.atan2(stars[0][1]-yc,stars[0][0]-xc))\n",
    "    if(angle[0]<0):\n",
    "        angle[0]=angle[0]+360\n",
    "    angle[1] = math.degrees(   math.atan2(stars[1][1]-yc,stars[1][0]-xc)-math.atan2(stars[2][1]-yc, stars[2][0] -xc))\n",
    "    if(angle[1]<0):\n",
    "        angle[1]=angle[1]+360\n",
    "    return angle"
   ]
  },
  {
   "cell_type": "code",
   "execution_count": 6,
   "metadata": {},
   "outputs": [],
   "source": [
    "def getAngle(arm,head,xc,yc):\n",
    "    angle=np.zeros(1)\n",
    "    angle[0]=math.degrees( math.atan2(head[1]-yc, head[0] -xc) - math.atan2(arm[1]-yc,arm[0]-xc))\n",
    "    if(angle[0]<0):\n",
    "        angle[0]=angle[0]+360\n",
    "    return angle"
   ]
  },
  {
   "cell_type": "code",
   "execution_count": 7,
   "metadata": {},
   "outputs": [],
   "source": [
    "def distinguish_points(star_points,centroid):\n",
    "    #problem could sholder be detected instea of han in 9 or 10\n",
    "    #print('distinguish')\n",
    "    #get head and both arms\n",
    "    #get right hand\n",
    "    max_0 = np.max(star_points,axis=0)\n",
    "    right_idx = np.where((star_points[:,0]==max_0[0]))[0]\n",
    "    right_point = star_points[right_idx][0]\n",
    "    star_points = np.delete(star_points,right_idx[0],axis=0)\n",
    "\n",
    "    #get left hand\n",
    "    min_0 = np.min(star_points,axis=0)\n",
    "    left_idx = np.where((star_points[:,0]==min_0[0]))[0]\n",
    "    left_point = star_points[left_idx][0]\n",
    "    star_points = np.delete(star_points,left_idx[0],axis=0)\n",
    "    \n",
    "    #get head\n",
    "  \n",
    "    flag = True\n",
    "    #not sure if it is accurate\n",
    "    while(flag):\n",
    "        min_0 = np.min(star_points,axis=0)\n",
    "        head_idx = np.where((star_points[:,1]==min_0[1]))[0]\n",
    "        head_point = star_points[head_idx][0]\n",
    "        star_points = np.delete(star_points,head_idx[0],axis=0)\n",
    "        \n",
    "        if(abs(head_point[0]-centroid[0])<20):\n",
    "            flag = False\n",
    "    \n",
    "    return right_point,left_point,head_point"
   ]
  },
  {
   "cell_type": "code",
   "execution_count": 8,
   "metadata": {},
   "outputs": [],
   "source": [
    "def detect_right_hand (right_cluster,point):\n",
    "    return 1\n",
    "    #return which label\n"
   ]
  },
  {
   "cell_type": "code",
   "execution_count": 9,
   "metadata": {},
   "outputs": [],
   "source": [
    "def detect_left_hand (left_cluster,point):\n",
    "    return 1\n",
    "    #return which label\n"
   ]
  },
  {
   "cell_type": "code",
   "execution_count": 10,
   "metadata": {},
   "outputs": [],
   "source": [
    "def detect_pose(right_pose,left_pose,target_pose):\n",
    "    return false"
   ]
  },
  {
   "cell_type": "code",
   "execution_count": 11,
   "metadata": {},
   "outputs": [],
   "source": [
    "def resiz(stars,xc,yc,model,height):\n",
    "    dist=distance(stars,xc,yc)\n",
    "    factor= model/height\n",
    "    leftNew = dist[0]*factor\n",
    "    rightNew= dist[1]*factor\n",
    "    diff1=leftNew-dist[0]\n",
    "    diff2=rightNew-dist[1]\n",
    "    v1=np.zeros(2)\n",
    "    v2=np.zeros(2)\n",
    "    v1[0]=stars[0][0][0]-xc\n",
    "    v1[1]=stars[0][0][1]-yc\n",
    "    v2[0]=stars[1][0][0]-xc\n",
    "    v2[1]=stars[1][0][1]-yc\n",
    "    vNorm1=v1/dist[0]\n",
    "    vNorm2=v2/dist[1]\n",
    "    newLeft= stars[0][0]+(diff1*vNorm1)\n",
    "    newRight= stars[1][0]+(diff2*vNorm2)\n",
    "    stars[0][0]=newLeft\n",
    "    stars[1][0]=newRight\n",
    "    "
   ]
  },
  {
   "cell_type": "code",
   "execution_count": 12,
   "metadata": {},
   "outputs": [],
   "source": [
    "def cluster():\n",
    "    image_list = []\n",
    "    right_list = []\n",
    "    left_list = []\n",
    "    background = io.imread (\"T.1_back.jpg\")\n",
    "    for filename in glob.glob('pictures/*.jpg'): #assuming gif\n",
    "        im=io.imread(filename)\n",
    "        image_list.append(im)\n",
    "        right_point,left_point,out_img = functions_sequence(im,background)\n",
    "        right_list.append(right_point)\n",
    "        left_list.append(left_point)\n",
    "        io.imsave('star_'+filename,out_img)\n",
    "    cluster_n = 5\n",
    "    right_cluster=KMeans(cluster_n,random_state=0).fit(right_list)\n",
    "    left_cluster=KMeans(cluster_n,random_state=0).fit(left_list)\n",
    "\n",
    "    return right_cluster,left_cluster"
   ]
  },
  {
   "cell_type": "code",
   "execution_count": null,
   "metadata": {},
   "outputs": [],
   "source": []
  },
  {
   "cell_type": "code",
   "execution_count": 13,
   "metadata": {},
   "outputs": [],
   "source": [
    "#collective function\n",
    "def functions_sequence (fram,back): \n",
    "    #get the background and keep it\n",
    "    #call get a frame and call sequence of functions\n",
    "    \n",
    "    #segmentation step\n",
    "    #im1 = io.imread (\"pictures/5 (2).jpg\")\n",
    "    #im2 = io.imread (\"pictures/T.1_back.jpg\")\n",
    "\n",
    "    bin_img = segmentation(fram,back)\n",
    "\n",
    "    #border extraction step from bin_img\n",
    "    #border = border_extraction(bin_img)\n",
    "    right,left = border_extraction(bin_img)\n",
    "    \n",
    "    #star skeletonization step\n",
    "    col_img =gray2rgb(bin_img)\n",
    "    centroid,star_points = star(right,left,col_img)\n",
    "\n",
    "    \n",
    "    #get angles\n",
    "    #distinguish points \n",
    "    right_arm,left_arm,head = distinguish_points(star_points,centroid)\n",
    "    \n",
    "    #show points\n",
    "    cv.circle(col_img,((int)(right_arm[0]),(int)(right_arm[1])),10,(255,0,255),2)\n",
    "    cv.circle(col_img,((int)(left_arm[0]),(int)(left_arm[1])),10,(255,0,255),2)\n",
    "    cv.circle(col_img,((int)(head[0]),(int)(head[1])),10,(255,0,255),2)\n",
    "    #export jpg\n",
    "    \n",
    "    ############\n",
    "    right_angle = getAngle(right_arm,head,centroid[0],centroid[1])\n",
    "    left_angle = getAngle(left_arm,head,centroid[0],centroid[1])\n",
    "    return np.concatenate((right_arm,right_angle)),np.concatenate((left_arm,left_angle)),col_img\n",
    "    #right_hand_pose = detect_right_hand(r_cluster,right_arm,right_angle)\n",
    "    #left_hand_pose = detect_left_hand(l_cluster,left_arm,left_angle)\n",
    "    #detect_pose(right_hand_pose,left_hand_pose,pose)"
   ]
  },
  {
   "cell_type": "code",
   "execution_count": 15,
   "metadata": {},
   "outputs": [
    {
     "name": "stderr",
     "output_type": "stream",
     "text": [
      "C:\\ProgramData\\Anaconda3\\lib\\site-packages\\ipykernel_launcher.py:19: FutureWarning: arrays to stack must be passed as a \"sequence\" type such as list or tuple. Support for non-sequence iterables such as generators is deprecated as of NumPy 1.16 and will raise an error in the future.\n"
     ]
    },
    {
     "name": "stdout",
     "output_type": "stream",
     "text": [
      "[3 3 3 0 1 1 1 4 4 1 1 1 3 0 0 0 0 0 0 0 0 2 2 2 3 3 3 0 0 0 0 2 0 0 1 3 4\n",
      " 4 4 4 4 4 4 4]\n",
      "[3 3 2 2 0 2 2 2 2 0 2 2 2 2 2 2 2 2 2 0 0 1 1 1 0 2 2 0 4 4 4 1 3 3 4 4 3\n",
      " 3 3 3 3 2 3 3]\n"
     ]
    },
    {
     "name": "stderr",
     "output_type": "stream",
     "text": [
      "C:\\ProgramData\\Anaconda3\\lib\\site-packages\\ipykernel_launcher.py:19: FutureWarning: arrays to stack must be passed as a \"sequence\" type such as list or tuple. Support for non-sequence iterables such as generators is deprecated as of NumPy 1.16 and will raise an error in the future.\n"
     ]
    },
    {
     "ename": "NameError",
     "evalue": "name 'false' is not defined",
     "output_type": "error",
     "traceback": [
      "\u001b[1;31m---------------------------------------------------------------------------\u001b[0m",
      "\u001b[1;31mNameError\u001b[0m                                 Traceback (most recent call last)",
      "\u001b[1;32m<ipython-input-15-d1db1097ed73>\u001b[0m in \u001b[0;36m<module>\u001b[1;34m\u001b[0m\n\u001b[0;32m     10\u001b[0m \u001b[0mright_hand_pose\u001b[0m \u001b[1;33m=\u001b[0m \u001b[0mdetect_right_hand\u001b[0m\u001b[1;33m(\u001b[0m\u001b[0mright_cluster\u001b[0m\u001b[1;33m,\u001b[0m\u001b[0mright\u001b[0m\u001b[1;33m)\u001b[0m\u001b[1;33m\u001b[0m\u001b[1;33m\u001b[0m\u001b[0m\n\u001b[0;32m     11\u001b[0m \u001b[0mleft_hand_pose\u001b[0m \u001b[1;33m=\u001b[0m \u001b[0mdetect_left_hand\u001b[0m\u001b[1;33m(\u001b[0m\u001b[0mleft_cluster\u001b[0m\u001b[1;33m,\u001b[0m\u001b[0mleft\u001b[0m\u001b[1;33m)\u001b[0m\u001b[1;33m\u001b[0m\u001b[1;33m\u001b[0m\u001b[0m\n\u001b[1;32m---> 12\u001b[1;33m \u001b[0mdetect_pose\u001b[0m\u001b[1;33m(\u001b[0m\u001b[0mright_hand_pose\u001b[0m\u001b[1;33m,\u001b[0m\u001b[0mleft_hand_pose\u001b[0m\u001b[1;33m,\u001b[0m\u001b[0mpose\u001b[0m\u001b[1;33m)\u001b[0m\u001b[1;33m\u001b[0m\u001b[1;33m\u001b[0m\u001b[0m\n\u001b[0m\u001b[0;32m     13\u001b[0m \u001b[1;33m\u001b[0m\u001b[0m\n\u001b[0;32m     14\u001b[0m \u001b[1;31m#save image with star if required\u001b[0m\u001b[1;33m\u001b[0m\u001b[1;33m\u001b[0m\u001b[1;33m\u001b[0m\u001b[0m\n",
      "\u001b[1;32m<ipython-input-10-ff5dcc996178>\u001b[0m in \u001b[0;36mdetect_pose\u001b[1;34m(right_pose, left_pose, target_pose)\u001b[0m\n\u001b[0;32m      1\u001b[0m \u001b[1;32mdef\u001b[0m \u001b[0mdetect_pose\u001b[0m\u001b[1;33m(\u001b[0m\u001b[0mright_pose\u001b[0m\u001b[1;33m,\u001b[0m\u001b[0mleft_pose\u001b[0m\u001b[1;33m,\u001b[0m\u001b[0mtarget_pose\u001b[0m\u001b[1;33m)\u001b[0m\u001b[1;33m:\u001b[0m\u001b[1;33m\u001b[0m\u001b[1;33m\u001b[0m\u001b[0m\n\u001b[1;32m----> 2\u001b[1;33m     \u001b[1;32mreturn\u001b[0m \u001b[0mfalse\u001b[0m\u001b[1;33m\u001b[0m\u001b[1;33m\u001b[0m\u001b[0m\n\u001b[0m",
      "\u001b[1;31mNameError\u001b[0m: name 'false' is not defined"
     ]
    }
   ],
   "source": [
    "#main\n",
    "#get background\n",
    "im2 = io.imread (\"T.1_back.jpg\")\n",
    "right_cluster,left_cluster = cluster()\n",
    "#randomly generate target pose\n",
    "pose = 1\n",
    "############video loop##############\n",
    "im1 = io.imread (\"pictures/5 (2).jpg\")\n",
    "right,left,out=functions_sequence(im1,im2)\n",
    "right_hand_pose = detect_right_hand(right_cluster,right)\n",
    "left_hand_pose = detect_left_hand(left_cluster,left)\n",
    "detect_pose(right_hand_pose,left_hand_pose,pose)\n",
    "\n",
    "#save image with star if required\n",
    "io.imsave('out_pictures/out.jpg',out)\n",
    "\n",
    "############video loop##############"
   ]
  },
  {
   "cell_type": "code",
   "execution_count": null,
   "metadata": {},
   "outputs": [],
   "source": []
  },
  {
   "cell_type": "code",
   "execution_count": null,
   "metadata": {},
   "outputs": [],
   "source": []
  }
 ],
 "metadata": {
  "kernelspec": {
   "display_name": "Python 3",
   "language": "python",
   "name": "python3"
  },
  "language_info": {
   "codemirror_mode": {
    "name": "ipython",
    "version": 3
   },
   "file_extension": ".py",
   "mimetype": "text/x-python",
   "name": "python",
   "nbconvert_exporter": "python",
   "pygments_lexer": "ipython3",
   "version": "3.7.3"
  }
 },
 "nbformat": 4,
 "nbformat_minor": 2
}
